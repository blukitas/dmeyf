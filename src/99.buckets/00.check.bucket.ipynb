{
 "cells": [
  {
   "cell_type": "code",
   "execution_count": 1,
   "metadata": {},
   "outputs": [],
   "source": [
    "# !pip install google.cloud\n",
    "# !pip install google-cloud-datastore\n",
    "# ! pip install --upgrade google-cloud-storage"
   ]
  },
  {
   "cell_type": "code",
   "execution_count": 2,
   "metadata": {},
   "outputs": [],
   "source": [
    "from google.cloud import storage\n",
    "from google.api_core.exceptions import NotFound\n",
    "import logging \n",
    "from google.api_core import page_iterator\n"
   ]
  },
  {
   "cell_type": "markdown",
   "metadata": {},
   "source": [
    "Referencias:\n",
    "- github: https://github.com/googleapis/google-cloud-python#google-cloud-python-client\n",
    "- github - starting: https://github.com/GoogleCloudPlatform/getting-started-python"
   ]
  },
  {
   "cell_type": "code",
   "execution_count": 3,
   "metadata": {},
   "outputs": [],
   "source": [
    "logger = logging.getLogger()"
   ]
  },
  {
   "cell_type": "code",
   "execution_count": 4,
   "metadata": {},
   "outputs": [],
   "source": [
    "def check_bucket_exists(self, bucket_name):\n",
    "        \"\"\"Checks whether GCS bucket exists.\n",
    "\n",
    "        Args:\n",
    "            bucket_name (str): GCS bucket name.\n",
    "        \"\"\"\n",
    "\n",
    "        try:\n",
    "            self.client.get_bucket(bucket_name)\n",
    "            return True\n",
    "        except NotFound as error:\n",
    "            logger.exception(error)\n",
    "            return False "
   ]
  },
  {
   "cell_type": "code",
   "execution_count": 5,
   "metadata": {},
   "outputs": [],
   "source": [
    "def list_buckets():\n",
    "    \"\"\"Lists all buckets.\"\"\"\n",
    "\n",
    "    storage_client = storage.Client()\n",
    "    buckets = storage_client.list_buckets()\n",
    "\n",
    "    for bucket in buckets:\n",
    "        print(bucket.name)\n"
   ]
  },
  {
   "cell_type": "code",
   "execution_count": 6,
   "metadata": {},
   "outputs": [],
   "source": [
    "# https://stackoverflow.com/questions/45645717/unable-to-authenticate-google-cloud-storage-client-in-python\n",
    "storage_client = storage.Client.from_service_account_json('./cobalt-bliss-331101-e92cd862637a.json')\n",
    "# client = storage.Client()    "
   ]
  },
  {
   "cell_type": "code",
   "execution_count": 7,
   "metadata": {},
   "outputs": [],
   "source": [
    "# bucket_list = ['lbertolini_eyf']\n",
    "# for i in bucket_list:\n",
    "#     print(f'bucket: {i}')\n",
    "#     bucket = storage_client.bucket(i)\n",
    "#     if bucket.exists():\n",
    "#         print(f'bucket_exists - {bucket}')\n",
    "#         bucket = storage_client.get_bucket(i)\n",
    "#         print(f'print_bucket_info')\n",
    "\n",
    "#         # https://cloud.google.com/storage/docs/getting-bucket-information#storage-get-bucket-metadata-python\n",
    "#         print(f\"\\t ID: {bucket.id}\")\n",
    "#         print(f\"\\t Name: {bucket.name}\")\n",
    "#         print(f\"\\t Storage Class: {bucket.storage_class}\")\n",
    "#         print(f\"\\t Location: {bucket.location}\")\n",
    "#         print(f\"\\t Location Type: {bucket.location_type}\")\n",
    "#         print(f\"\\t Cors: {bucket.cors}\")\n",
    "#         print(f\"\\t Default Event Based Hold: {bucket.default_event_based_hold}\")\n",
    "#         print(f\"\\t Default KMS Key Name: {bucket.default_kms_key_name}\")\n",
    "#         print(f\"\\t Metageneration: {bucket.metageneration}\")\n",
    "#         print(\n",
    "#             f\"\\t Public Access Prevention: {bucket.iam_configuration.public_access_prevention}\"\n",
    "#         )\n",
    "#         print(f\"\\t Retention Effective Time: {bucket.retention_policy_effective_time}\")\n",
    "#         print(f\"\\t Retention Period: {bucket.retention_period}\")\n",
    "#         print(f\"\\t Retention Policy Locked: {bucket.retention_policy_locked}\")\n",
    "#         print(f\"\\t Requester Pays: {bucket.requester_pays}\")\n",
    "#         print(f\"\\t Self Link: {bucket.self_link}\")\n",
    "#         print(f\"\\t Time Created: {bucket.time_created}\")\n",
    "#         print(f\"\\t Versioning Enabled: {bucket.versioning_enabled}\")\n",
    "#         print(f\"\\t Labels: {bucket.labels}\")\n"
   ]
  },
  {
   "cell_type": "code",
   "execution_count": 8,
   "metadata": {},
   "outputs": [],
   "source": [
    "import os \n",
    "from pathlib import Path"
   ]
  },
  {
   "cell_type": "code",
   "execution_count": 9,
   "metadata": {},
   "outputs": [],
   "source": [
    "bucket_name = 'lbertolini_eyf'\n",
    "download_path = os.getcwd() + '/kaggle/E5001/'\n",
    "Path(download_path ).mkdir(parents=True, exist_ok=True)"
   ]
  },
  {
   "cell_type": "code",
   "execution_count": 10,
   "metadata": {},
   "outputs": [
    {
     "name": "stdout",
     "output_type": "stream",
     "text": [
      "<Blob: lbertolini_eyf, work/, 1636497287048212>\n",
      "<Blob: lbertolini_eyf, work/E5001/, 1636676467037127>\n",
      "<Blob: lbertolini_eyf, work/E5002/, 1636745309699739>\n",
      "<Blob: lbertolini_eyf, work/E5003/, 1636746064291811>\n",
      "<Blob: lbertolini_eyf, work/E5004/, 1636746158673164>\n",
      "<Blob: lbertolini_eyf, work/E5005/, 1636756643441315>\n",
      "<Blob: lbertolini_eyf, work/E5006/, 1636765135273577>\n",
      "<Blob: lbertolini_eyf, work/E5007/, 1636812896791174>\n",
      "<Blob: lbertolini_eyf, work/E5008/, 1636848597639840>\n",
      "<Blob: lbertolini_eyf, work/E5009/, 1636851851142125>\n",
      "<Blob: lbertolini_eyf, work/E5010/, 1636895584242291>\n",
      "<Blob: lbertolini_eyf, work/E5011/, 1636914800390367>\n",
      "<Blob: lbertolini_eyf, work/E5012/, 1636936571668910>\n",
      "<Blob: lbertolini_eyf, work/E5013/, 1636948999933113>\n",
      "<Blob: lbertolini_eyf, work/E5014/, 1636994477994657>\n",
      "<Blob: lbertolini_eyf, work/E5015/, 1637003561191042>\n",
      "<Blob: lbertolini_eyf, work/E5016/, 1637030816992680>\n",
      "<Blob: lbertolini_eyf, work/E5017/, 1637080903668790>\n",
      "<Blob: lbertolini_eyf, work/E5018/, 1637183105970064>\n",
      "<Blob: lbertolini_eyf, work/E5019/, 1637187144918036>\n",
      "<Blob: lbertolini_eyf, work/E5020/, 1637188567231461>\n",
      "<Blob: lbertolini_eyf, work/E5021/, 1637189481953749>\n",
      "<Blob: lbertolini_eyf, work/E5022/, 1637255510013050>\n",
      "<Blob: lbertolini_eyf, work/E5023/, 1637280885514894>\n",
      "<Blob: lbertolini_eyf, work/E5024/, 1637282122597608>\n",
      "<Blob: lbertolini_eyf, work/E5025/, 1637283365442965>\n",
      "<Blob: lbertolini_eyf, work/E5026/, 1637284866018890>\n",
      "<Blob: lbertolini_eyf, work/E5027/, 1637286294133989>\n",
      "<Blob: lbertolini_eyf, work/E5028/, 1637288118194230>\n",
      "<Blob: lbertolini_eyf, work/E5029/, 1637289736325810>\n",
      "<Blob: lbertolini_eyf, work/E5030/, 1637294112797892>\n",
      "<Blob: lbertolini_eyf, work/E5031/, 1637328726464951>\n",
      "<Blob: lbertolini_eyf, work/E5032/, 1637328837553623>\n"
     ]
    }
   ],
   "source": [
    "\n",
    "# Get GCS bucket\n",
    "bucket = storage_client.get_bucket(bucket_name)\n",
    "\n",
    "# Get blobs in bucket (including all subdirectories)\n",
    "#   Ref: https://googleapis.dev/python/storage/latest/buckets.html#google.cloud.storage.bucket.Bucket.list_blobs\n",
    "# blobs_all = list(bucket.list_blobs())\n",
    "# blobs_all\n",
    "for blob in bucket.list_blobs(prefix=\"work/\"):\n",
    "    if (blob.name[-1] == '/'):\n",
    "        print(blob)\n",
    "# Get blobs in specific subirectory\n",
    "# blobs_specific = list(bucket.list_blobs(prefix='/'))"
   ]
  },
  {
   "cell_type": "code",
   "execution_count": 11,
   "metadata": {},
   "outputs": [
    {
     "name": "stdout",
     "output_type": "stream",
     "text": [
      "<Blob: lbertolini_eyf, work/E5031/, 1637328726464951>\n"
     ]
    }
   ],
   "source": [
    "for blob in bucket.list_blobs(prefix=\"work/E5031\"):\n",
    "    print(blob)"
   ]
  },
  {
   "cell_type": "code",
   "execution_count": 14,
   "metadata": {},
   "outputs": [],
   "source": [
    "\n",
    "# print(download_path)\n",
    "for blob in bucket.list_blobs(prefix=\"kaggle/E5031/\"):\n",
    "    print(blob)\n",
    "    # print(blob.name)\n",
    "    # print(blob.name[-1])\n",
    "    # break\n",
    "    if (blob.name[-1] == '/'):\n",
    "        Path(os.getcwd() + \"/\"  +  blob.name).mkdir(parents=True, exist_ok=True)\n",
    "    else:\n",
    "        destination_path = os.getcwd() + \"/\" + blob.name\n",
    "        print(f\"Destination: { destination_path }\")\n",
    "        b = bucket.get_blob(blob.name)\n",
    "        out = b.download_to_filename(destination_path)\n",
    "        print(out)\n",
    "        # break\n",
    "\n",
    "    # print(blob.name)\n",
    "\n"
   ]
  },
  {
   "cell_type": "code",
   "execution_count": 17,
   "metadata": {},
   "outputs": [
    {
     "name": "stdout",
     "output_type": "stream",
     "text": [
      "<Blob: lbertolini_eyf, work/E5022/, 1637255510013050>\n",
      "<Blob: lbertolini_eyf, work/E5022/E5022_1061_epic.RDATA, 1637279277969609>\n",
      "Destination: /home/lucas/Desktop/2021/Maestria/02.05.Data.Mining.E.y.F/Repo.TP/dmeyf/src/99.buckets/work/E5022/E5022_1061_epic.RDATA\n",
      "None\n",
      "<Blob: lbertolini_eyf, work/E5022/E5022_1061_epic_BOlog.txt, 1637279462094612>\n",
      "Destination: /home/lucas/Desktop/2021/Maestria/02.05.Data.Mining.E.y.F/Repo.TP/dmeyf/src/99.buckets/work/E5022/E5022_1061_epic_BOlog.txt\n",
      "None\n",
      "<Blob: lbertolini_eyf, work/E5022/E5022_1061_epic_imp_043.txt, 1637258929541081>\n",
      "Destination: /home/lucas/Desktop/2021/Maestria/02.05.Data.Mining.E.y.F/Repo.TP/dmeyf/src/99.buckets/work/E5022/E5022_1061_epic_imp_043.txt\n",
      "None\n",
      "<Blob: lbertolini_eyf, work/E5022/E5022_1061_epic_imp_045.txt, 1637260399407912>\n",
      "Destination: /home/lucas/Desktop/2021/Maestria/02.05.Data.Mining.E.y.F/Repo.TP/dmeyf/src/99.buckets/work/E5022/E5022_1061_epic_imp_045.txt\n",
      "None\n",
      "<Blob: lbertolini_eyf, work/E5022/E5022_1061_epic_imp_052.txt, 1637261965991739>\n",
      "Destination: /home/lucas/Desktop/2021/Maestria/02.05.Data.Mining.E.y.F/Repo.TP/dmeyf/src/99.buckets/work/E5022/E5022_1061_epic_imp_052.txt\n",
      "None\n",
      "<Blob: lbertolini_eyf, work/E5022/E5022_1061_epic_imp_141.txt, 1637269757389058>\n",
      "Destination: /home/lucas/Desktop/2021/Maestria/02.05.Data.Mining.E.y.F/Repo.TP/dmeyf/src/99.buckets/work/E5022/E5022_1061_epic_imp_141.txt\n",
      "None\n",
      "<Blob: lbertolini_eyf, work/E5022/E5022_1061_epic_imp_153.txt, 1637272011775354>\n",
      "Destination: /home/lucas/Desktop/2021/Maestria/02.05.Data.Mining.E.y.F/Repo.TP/dmeyf/src/99.buckets/work/E5022/E5022_1061_epic_imp_153.txt\n",
      "None\n"
     ]
    }
   ],
   "source": [
    "# print(download_path)\n",
    "for blob in bucket.list_blobs(prefix=\"work/E5022/\"):\n",
    "# for blob in bucket.list_blobs(prefix=\"modelitos/\"):\n",
    "    print(blob)\n",
    "    # print(blob.name)\n",
    "    # print(blob.name[-1])\n",
    "    # break\n",
    "    if (blob.name[-1] == '/'):\n",
    "        Path(os.getcwd() + \"/\"  +  blob.name).mkdir(parents=True, exist_ok=True)\n",
    "    else:\n",
    "        destination_path = os.getcwd() + \"/\" + blob.name\n",
    "        print(f\"Destination: { destination_path }\")\n",
    "        b = bucket.get_blob(blob.name)\n",
    "        out = b.download_to_filename(destination_path)\n",
    "        print(out)\n",
    "        # break\n",
    "\n",
    "    # print(blob.name)\n",
    "\n"
   ]
  },
  {
   "cell_type": "code",
   "execution_count": null,
   "metadata": {},
   "outputs": [],
   "source": [
    "\n",
    "for blob in bucket.list_blobs():\n",
    "    print(dir(blob))\n",
    "    # [\n",
    "    # 'STORAGE_CLASSES', '_CHUNK_SIZE_MULTIPLE', '__class__', '__delattr__', \n",
    "    # '__dict__', '__dir__', '__doc__', '__eq__', '__format__', '__ge__', \n",
    "    # '__getattribute__', '__gt__', '__hash__', '__init__', '__init_subclass__', \n",
    "    # '__le__', '__lt__', '__module__', '__ne__', '__new__', '__reduce__', \n",
    "    # '__reduce_ex__', '__repr__', '__setattr__', '__sizeof__', '__str__', \n",
    "    # '__subclasshook__', '__weakref__', '_acl', '_bucket', '_changes', '_chunk_size', \n",
    "    # '_do_download', '_do_multipart_upload', '_do_resumable_upload', '_do_upload', \n",
    "    # '_encryption_headers', '_encryption_key', '_extract_headers_from_download', \n",
    "    # '_get_content_type', '_get_download_url', '_get_transport', '_get_upload_arguments', \n",
    "    # '_get_writable_metadata', '_initiate_resumable_upload', '_patch_property', \n",
    "    # '_properties', '_query_params', '_require_client', '_set_properties', 'acl', \n",
    "    # 'bucket', 'cache_control', 'chunk_size', 'client', 'component_count', 'compose', \n",
    "    # 'content_disposition', 'content_encoding', 'content_language', 'content_type', \n",
    "    # 'crc32c', 'create_resumable_upload_session', 'custom_time', 'delete', 'download_as_bytes', \n",
    "    # 'download_as_string', 'download_as_text', 'download_to_file', 'download_to_filename', \n",
    "    # 'encryption_key', 'etag', 'event_based_hold', 'exists', 'from_string', \n",
    "    # 'generate_signed_url', 'generation', 'get_iam_policy', 'id', 'kms_key_name', \n",
    "    # 'make_private', 'make_public', 'md5_hash', 'media_link', 'metadata', 'metageneration', \n",
    "    # 'name', 'open', 'owner', 'patch', 'path', 'path_helper', 'public_url', 'reload', \n",
    "    # 'retention_expiration_time', 'rewrite', 'self_link', 'set_iam_policy', 'size', \n",
    "    # 'storage_class', 'temporary_hold', 'test_iam_permissions', 'time_created', \n",
    "    # 'time_deleted', 'update', 'update_storage_class', 'updated', 'upload_from_file', \n",
    "    # 'upload_from_filename', 'upload_from_string', 'user_project']\n",
    "    break\n",
    "    print(blob.name)"
   ]
  },
  {
   "cell_type": "code",
   "execution_count": 15,
   "metadata": {},
   "outputs": [
    {
     "name": "stdout",
     "output_type": "stream",
     "text": [
      "<Blob: lbertolini_eyf, work/, 1636497287048212>\n",
      "work/\n",
      "<Blob: lbertolini_eyf, work/impo.txt, 1637143007043004>\n",
      "work/impo.txt\n",
      "Destination: /home/lucas/Desktop/2021/Maestria/02.05.Data.Mining.E.y.F/Repo.TP/dmeyf/src/99.buckets/work/impo.txt\n",
      "None\n",
      "<Blob: lbertolini_eyf, work/nas_ratio.pdf, 1636940554325512>\n",
      "work/nas_ratio.pdf\n",
      "Destination: /home/lucas/Desktop/2021/Maestria/02.05.Data.Mining.E.y.F/Repo.TP/dmeyf/src/99.buckets/work/nas_ratio.pdf\n",
      "None\n",
      "<Blob: lbertolini_eyf, work/palanca_v1051.yaml, 1637254622305395>\n",
      "work/palanca_v1051.yaml\n",
      "Destination: /home/lucas/Desktop/2021/Maestria/02.05.Data.Mining.E.y.F/Repo.TP/dmeyf/src/99.buckets/work/palanca_v1051.yaml\n",
      "None\n",
      "<Blob: lbertolini_eyf, work/palanca_v1052.yaml, 1637291603706908>\n",
      "work/palanca_v1052.yaml\n",
      "Destination: /home/lucas/Desktop/2021/Maestria/02.05.Data.Mining.E.y.F/Repo.TP/dmeyf/src/99.buckets/work/palanca_v1052.yaml\n",
      "None\n",
      "<Blob: lbertolini_eyf, work/palanca_v951.yaml, 1636670217426662>\n",
      "work/palanca_v951.yaml\n",
      "Destination: /home/lucas/Desktop/2021/Maestria/02.05.Data.Mining.E.y.F/Repo.TP/dmeyf/src/99.buckets/work/palanca_v951.yaml\n",
      "None\n",
      "<Blob: lbertolini_eyf, work/palanca_v952.yaml, 1636759839622325>\n",
      "work/palanca_v952.yaml\n",
      "Destination: /home/lucas/Desktop/2021/Maestria/02.05.Data.Mining.E.y.F/Repo.TP/dmeyf/src/99.buckets/work/palanca_v952.yaml\n",
      "None\n",
      "<Blob: lbertolini_eyf, work/palanca_v953.yaml, 1636806933114988>\n",
      "work/palanca_v953.yaml\n",
      "Destination: /home/lucas/Desktop/2021/Maestria/02.05.Data.Mining.E.y.F/Repo.TP/dmeyf/src/99.buckets/work/palanca_v953.yaml\n",
      "None\n",
      "<Blob: lbertolini_eyf, work/palanca_v954.yaml, 1636856191151111>\n",
      "work/palanca_v954.yaml\n",
      "Destination: /home/lucas/Desktop/2021/Maestria/02.05.Data.Mining.E.y.F/Repo.TP/dmeyf/src/99.buckets/work/palanca_v954.yaml\n",
      "None\n",
      "<Blob: lbertolini_eyf, work/palanca_v955.yaml, 1636941560384268>\n",
      "work/palanca_v955.yaml\n",
      "Destination: /home/lucas/Desktop/2021/Maestria/02.05.Data.Mining.E.y.F/Repo.TP/dmeyf/src/99.buckets/work/palanca_v955.yaml\n",
      "None\n",
      "<Blob: lbertolini_eyf, work/palanca_v956.yaml, 1636999476590343>\n",
      "work/palanca_v956.yaml\n",
      "Destination: /home/lucas/Desktop/2021/Maestria/02.05.Data.Mining.E.y.F/Repo.TP/dmeyf/src/99.buckets/work/palanca_v956.yaml\n",
      "None\n",
      "<Blob: lbertolini_eyf, work/palanca_v957.yaml, 1637028778036273>\n",
      "work/palanca_v957.yaml\n",
      "Destination: /home/lucas/Desktop/2021/Maestria/02.05.Data.Mining.E.y.F/Repo.TP/dmeyf/src/99.buckets/work/palanca_v957.yaml\n",
      "None\n",
      "<Blob: lbertolini_eyf, work/palanca_vidapropia_01.yaml, 1637088355147642>\n",
      "work/palanca_vidapropia_01.yaml\n",
      "Destination: /home/lucas/Desktop/2021/Maestria/02.05.Data.Mining.E.y.F/Repo.TP/dmeyf/src/99.buckets/work/palanca_vidapropia_01.yaml\n",
      "None\n",
      "<Blob: lbertolini_eyf, work/promedios.pdf, 1636940728911981>\n",
      "work/promedios.pdf\n",
      "Destination: /home/lucas/Desktop/2021/Maestria/02.05.Data.Mining.E.y.F/Repo.TP/dmeyf/src/99.buckets/work/promedios.pdf\n",
      "None\n",
      "<Blob: lbertolini_eyf, work/promedios_nocero.pdf, 1636940871842019>\n",
      "work/promedios_nocero.pdf\n",
      "Destination: /home/lucas/Desktop/2021/Maestria/02.05.Data.Mining.E.y.F/Repo.TP/dmeyf/src/99.buckets/work/promedios_nocero.pdf\n",
      "None\n",
      "<Blob: lbertolini_eyf, work/zeroes_ratio.pdf, 1636940473203936>\n",
      "work/zeroes_ratio.pdf\n",
      "Destination: /home/lucas/Desktop/2021/Maestria/02.05.Data.Mining.E.y.F/Repo.TP/dmeyf/src/99.buckets/work/zeroes_ratio.pdf\n",
      "None\n"
     ]
    }
   ],
   "source": [
    "# Archivos sueltos en work\n",
    "for blob in bucket.list_blobs(prefix=\"work/\"):\n",
    "    if not blob.name.startswith(\"work/E\"):\n",
    "        print(blob)\n",
    "        print(blob.name)\n",
    "        \n",
    "        if (blob.name[-1] != '/'):\n",
    "            destination_path = os.getcwd() + \"/\" + blob.name\n",
    "            print(f\"Destination: { destination_path }\")\n",
    "            b = bucket.get_blob(blob.name)\n",
    "            out = b.download_to_filename(destination_path)\n",
    "            print(out)\n",
    "            # break"
   ]
  }
 ],
 "metadata": {
  "interpreter": {
   "hash": "e7370f93d1d0cde622a1f8e1c04877d8463912d04d973331ad4851f04de6915a"
  },
  "kernelspec": {
   "display_name": "Python 3.9.7 64-bit",
   "language": "python",
   "name": "python3"
  },
  "language_info": {
   "codemirror_mode": {
    "name": "ipython",
    "version": 3
   },
   "file_extension": ".py",
   "mimetype": "text/x-python",
   "name": "python",
   "nbconvert_exporter": "python",
   "pygments_lexer": "ipython3",
   "version": "3.9.7"
  },
  "orig_nbformat": 4
 },
 "nbformat": 4,
 "nbformat_minor": 2
}
