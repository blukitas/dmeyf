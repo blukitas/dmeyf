{
 "cells": [
  {
   "cell_type": "code",
   "execution_count": 3,
   "metadata": {},
   "outputs": [],
   "source": [
    "# !pip install google.cloud\n",
    "# !pip install google-cloud-datastore\n",
    "# ! pip install --upgrade google-cloud-storage"
   ]
  },
  {
   "cell_type": "code",
   "execution_count": 1,
   "metadata": {},
   "outputs": [],
   "source": [
    "from google.cloud import storage\n",
    "from google.api_core.exceptions import NotFound\n",
    "import logging \n",
    "from google.api_core import page_iterator\n"
   ]
  },
  {
   "cell_type": "markdown",
   "metadata": {},
   "source": [
    "Referencias:\n",
    "- github: https://github.com/googleapis/google-cloud-python#google-cloud-python-client\n",
    "- github - starting: https://github.com/GoogleCloudPlatform/getting-started-python"
   ]
  },
  {
   "cell_type": "code",
   "execution_count": 2,
   "metadata": {},
   "outputs": [],
   "source": [
    "logger = logging.getLogger()"
   ]
  },
  {
   "cell_type": "code",
   "execution_count": 3,
   "metadata": {},
   "outputs": [],
   "source": [
    "def check_bucket_exists(self, bucket_name):\n",
    "        \"\"\"Checks whether GCS bucket exists.\n",
    "\n",
    "        Args:\n",
    "            bucket_name (str): GCS bucket name.\n",
    "        \"\"\"\n",
    "\n",
    "        try:\n",
    "            self.client.get_bucket(bucket_name)\n",
    "            return True\n",
    "        except NotFound as error:\n",
    "            logger.exception(error)\n",
    "            return False "
   ]
  },
  {
   "cell_type": "code",
   "execution_count": 4,
   "metadata": {},
   "outputs": [],
   "source": [
    "def list_buckets():\n",
    "    \"\"\"Lists all buckets.\"\"\"\n",
    "\n",
    "    storage_client = storage.Client()\n",
    "    buckets = storage_client.list_buckets()\n",
    "\n",
    "    for bucket in buckets:\n",
    "        print(bucket.name)\n"
   ]
  },
  {
   "cell_type": "code",
   "execution_count": 5,
   "metadata": {},
   "outputs": [],
   "source": [
    "# https://stackoverflow.com/questions/45645717/unable-to-authenticate-google-cloud-storage-client-in-python\n",
    "storage_client = storage.Client.from_service_account_json('./cobalt-bliss-331101-e92cd862637a.json')\n",
    "# client = storage.Client()    "
   ]
  },
  {
   "cell_type": "code",
   "execution_count": 16,
   "metadata": {},
   "outputs": [
    {
     "name": "stdout",
     "output_type": "stream",
     "text": [
      "bucket: lbertolini_eyf\n",
      "bucket_exists - <Bucket: lbertolini_eyf>\n",
      "print_bucket\n",
      "\t ID: lbertolini_eyf\n",
      "\t Name: lbertolini_eyf\n",
      "\t Storage Class: STANDARD\n",
      "\t Location: US\n",
      "\t Location Type: multi-region\n",
      "\t Cors: []\n",
      "\t Default Event Based Hold: None\n",
      "\t Default KMS Key Name: None\n",
      "\t Metageneration: 1\n",
      "\t Public Access Prevention: unspecified\n",
      "\t Retention Effective Time: None\n",
      "\t Retention Period: None\n",
      "\t Retention Policy Locked: None\n",
      "\t Requester Pays: False\n",
      "\t Self Link: https://www.googleapis.com/storage/v1/b/lbertolini_eyf\n",
      "\t Time Created: 2021-11-09 22:29:54.457000+00:00\n",
      "\t Versioning Enabled: False\n",
      "\t Labels: {}\n"
     ]
    }
   ],
   "source": [
    "# bucket_list = ['lbertolini_eyf']\n",
    "# for i in bucket_list:\n",
    "#     print(f'bucket: {i}')\n",
    "#     bucket = storage_client.bucket(i)\n",
    "#     if bucket.exists():\n",
    "#         print(f'bucket_exists - {bucket}')\n",
    "#         bucket = storage_client.get_bucket(i)\n",
    "#         print(f'print_bucket_info')\n",
    "\n",
    "#         # https://cloud.google.com/storage/docs/getting-bucket-information#storage-get-bucket-metadata-python\n",
    "#         print(f\"\\t ID: {bucket.id}\")\n",
    "#         print(f\"\\t Name: {bucket.name}\")\n",
    "#         print(f\"\\t Storage Class: {bucket.storage_class}\")\n",
    "#         print(f\"\\t Location: {bucket.location}\")\n",
    "#         print(f\"\\t Location Type: {bucket.location_type}\")\n",
    "#         print(f\"\\t Cors: {bucket.cors}\")\n",
    "#         print(f\"\\t Default Event Based Hold: {bucket.default_event_based_hold}\")\n",
    "#         print(f\"\\t Default KMS Key Name: {bucket.default_kms_key_name}\")\n",
    "#         print(f\"\\t Metageneration: {bucket.metageneration}\")\n",
    "#         print(\n",
    "#             f\"\\t Public Access Prevention: {bucket.iam_configuration.public_access_prevention}\"\n",
    "#         )\n",
    "#         print(f\"\\t Retention Effective Time: {bucket.retention_policy_effective_time}\")\n",
    "#         print(f\"\\t Retention Period: {bucket.retention_period}\")\n",
    "#         print(f\"\\t Retention Policy Locked: {bucket.retention_policy_locked}\")\n",
    "#         print(f\"\\t Requester Pays: {bucket.requester_pays}\")\n",
    "#         print(f\"\\t Self Link: {bucket.self_link}\")\n",
    "#         print(f\"\\t Time Created: {bucket.time_created}\")\n",
    "#         print(f\"\\t Versioning Enabled: {bucket.versioning_enabled}\")\n",
    "#         print(f\"\\t Labels: {bucket.labels}\")\n"
   ]
  },
  {
   "cell_type": "code",
   "execution_count": 6,
   "metadata": {},
   "outputs": [],
   "source": [
    "import os \n",
    "from pathlib import Path"
   ]
  },
  {
   "cell_type": "code",
   "execution_count": 7,
   "metadata": {},
   "outputs": [],
   "source": [
    "bucket_name = 'lbertolini_eyf'\n",
    "download_path = os.getcwd() + '/kaggle/E5001/'\n",
    "Path(download_path ).mkdir(parents=True, exist_ok=True)"
   ]
  },
  {
   "cell_type": "code",
   "execution_count": 13,
   "metadata": {},
   "outputs": [
    {
     "name": "stdout",
     "output_type": "stream",
     "text": [
      "<Blob: lbertolini_eyf, work/, 1636497287048212>\n",
      "<Blob: lbertolini_eyf, work/E5001/, 1636676467037127>\n",
      "<Blob: lbertolini_eyf, work/E5002/, 1636745309699739>\n",
      "<Blob: lbertolini_eyf, work/E5003/, 1636746064291811>\n",
      "<Blob: lbertolini_eyf, work/E5004/, 1636746158673164>\n",
      "<Blob: lbertolini_eyf, work/E5005/, 1636756643441315>\n",
      "<Blob: lbertolini_eyf, work/E5006/, 1636765135273577>\n",
      "<Blob: lbertolini_eyf, work/E5007/, 1636812896791174>\n",
      "<Blob: lbertolini_eyf, work/E5008/, 1636848597639840>\n",
      "<Blob: lbertolini_eyf, work/E5009/, 1636851851142125>\n"
     ]
    }
   ],
   "source": [
    "\n",
    "# Get GCS bucket\n",
    "bucket = storage_client.get_bucket(bucket_name)\n",
    "\n",
    "# Get blobs in bucket (including all subdirectories)\n",
    "#   Ref: https://googleapis.dev/python/storage/latest/buckets.html#google.cloud.storage.bucket.Bucket.list_blobs\n",
    "# blobs_all = list(bucket.list_blobs())\n",
    "# blobs_all\n",
    "for blob in bucket.list_blobs(prefix=\"work/\"):\n",
    "    if (blob.name[-1] == '/'):\n",
    "        print(blob)\n",
    "# Get blobs in specific subirectory\n",
    "# blobs_specific = list(bucket.list_blobs(prefix='/'))"
   ]
  },
  {
   "cell_type": "code",
   "execution_count": 15,
   "metadata": {},
   "outputs": [
    {
     "name": "stdout",
     "output_type": "stream",
     "text": [
      "<Blob: lbertolini_eyf, work/E5008/, 1636848597639840>\n",
      "<Blob: lbertolini_eyf, work/E5008/E5008_981_epic.txt, 1636850310379072>\n"
     ]
    }
   ],
   "source": [
    "\n",
    "for blob in bucket.list_blobs(prefix=\"work/E5008\"):\n",
    "    print(blob)"
   ]
  },
  {
   "cell_type": "code",
   "execution_count": 9,
   "metadata": {},
   "outputs": [
    {
     "name": "stdout",
     "output_type": "stream",
     "text": [
      "<Blob: lbertolini_eyf, kaggle/E5007/, 1636812897199121>\n",
      "<Blob: lbertolini_eyf, kaggle/E5007/E5007_963_epic_037.csv, 1636819360991553>\n",
      "Destination: /home/lucas/Desktop/2021/Maestria/02.05.Data.Mining.E.y.F/Repo.TP/dmeyf/src/99.buckets/kaggle/E5007/E5007_963_epic_037.csv\n",
      "None\n",
      "<Blob: lbertolini_eyf, kaggle/E5007/meseta/, 1636812897604211>\n",
      "<Blob: lbertolini_eyf, kaggle/E5007/meseta/E5007_963_epic_037_06500.csv, 1636819362038121>\n",
      "Destination: /home/lucas/Desktop/2021/Maestria/02.05.Data.Mining.E.y.F/Repo.TP/dmeyf/src/99.buckets/kaggle/E5007/meseta/E5007_963_epic_037_06500.csv\n",
      "None\n",
      "<Blob: lbertolini_eyf, kaggle/E5007/meseta/E5007_963_epic_037_07000.csv, 1636819363007389>\n",
      "Destination: /home/lucas/Desktop/2021/Maestria/02.05.Data.Mining.E.y.F/Repo.TP/dmeyf/src/99.buckets/kaggle/E5007/meseta/E5007_963_epic_037_07000.csv\n",
      "None\n",
      "<Blob: lbertolini_eyf, kaggle/E5007/meseta/E5007_963_epic_037_07500.csv, 1636819364106842>\n",
      "Destination: /home/lucas/Desktop/2021/Maestria/02.05.Data.Mining.E.y.F/Repo.TP/dmeyf/src/99.buckets/kaggle/E5007/meseta/E5007_963_epic_037_07500.csv\n",
      "None\n",
      "<Blob: lbertolini_eyf, kaggle/E5007/meseta/E5007_963_epic_037_08000.csv, 1636819365062593>\n",
      "Destination: /home/lucas/Desktop/2021/Maestria/02.05.Data.Mining.E.y.F/Repo.TP/dmeyf/src/99.buckets/kaggle/E5007/meseta/E5007_963_epic_037_08000.csv\n",
      "None\n",
      "<Blob: lbertolini_eyf, kaggle/E5007/meseta/E5007_963_epic_037_08500.csv, 1636819366014405>\n",
      "Destination: /home/lucas/Desktop/2021/Maestria/02.05.Data.Mining.E.y.F/Repo.TP/dmeyf/src/99.buckets/kaggle/E5007/meseta/E5007_963_epic_037_08500.csv\n",
      "None\n",
      "<Blob: lbertolini_eyf, kaggle/E5007/meseta/E5007_963_epic_037_09000.csv, 1636819366970478>\n",
      "Destination: /home/lucas/Desktop/2021/Maestria/02.05.Data.Mining.E.y.F/Repo.TP/dmeyf/src/99.buckets/kaggle/E5007/meseta/E5007_963_epic_037_09000.csv\n",
      "None\n",
      "<Blob: lbertolini_eyf, kaggle/E5007/meseta/E5007_963_epic_037_09500.csv, 1636819367865258>\n",
      "Destination: /home/lucas/Desktop/2021/Maestria/02.05.Data.Mining.E.y.F/Repo.TP/dmeyf/src/99.buckets/kaggle/E5007/meseta/E5007_963_epic_037_09500.csv\n",
      "None\n",
      "<Blob: lbertolini_eyf, kaggle/E5007/meseta/E5007_963_epic_037_09589.csv, 1636819368868625>\n",
      "Destination: /home/lucas/Desktop/2021/Maestria/02.05.Data.Mining.E.y.F/Repo.TP/dmeyf/src/99.buckets/kaggle/E5007/meseta/E5007_963_epic_037_09589.csv\n",
      "None\n",
      "<Blob: lbertolini_eyf, kaggle/E5007/meseta/E5007_963_epic_037_10000.csv, 1636819369892274>\n",
      "Destination: /home/lucas/Desktop/2021/Maestria/02.05.Data.Mining.E.y.F/Repo.TP/dmeyf/src/99.buckets/kaggle/E5007/meseta/E5007_963_epic_037_10000.csv\n",
      "None\n",
      "<Blob: lbertolini_eyf, kaggle/E5007/meseta/E5007_963_epic_037_10500.csv, 1636819370871260>\n",
      "Destination: /home/lucas/Desktop/2021/Maestria/02.05.Data.Mining.E.y.F/Repo.TP/dmeyf/src/99.buckets/kaggle/E5007/meseta/E5007_963_epic_037_10500.csv\n",
      "None\n",
      "<Blob: lbertolini_eyf, kaggle/E5007/meseta/E5007_963_epic_037_11000.csv, 1636819371862966>\n",
      "Destination: /home/lucas/Desktop/2021/Maestria/02.05.Data.Mining.E.y.F/Repo.TP/dmeyf/src/99.buckets/kaggle/E5007/meseta/E5007_963_epic_037_11000.csv\n",
      "None\n",
      "<Blob: lbertolini_eyf, kaggle/E5007/meseta/E5007_963_epic_037_11500.csv, 1636819372825943>\n",
      "Destination: /home/lucas/Desktop/2021/Maestria/02.05.Data.Mining.E.y.F/Repo.TP/dmeyf/src/99.buckets/kaggle/E5007/meseta/E5007_963_epic_037_11500.csv\n",
      "None\n",
      "<Blob: lbertolini_eyf, kaggle/E5007/meseta/E5007_963_epic_037_12000.csv, 1636819373827690>\n",
      "Destination: /home/lucas/Desktop/2021/Maestria/02.05.Data.Mining.E.y.F/Repo.TP/dmeyf/src/99.buckets/kaggle/E5007/meseta/E5007_963_epic_037_12000.csv\n",
      "None\n",
      "<Blob: lbertolini_eyf, kaggle/E5007/meseta/E5007_963_epic_037_12500.csv, 1636819374788298>\n",
      "Destination: /home/lucas/Desktop/2021/Maestria/02.05.Data.Mining.E.y.F/Repo.TP/dmeyf/src/99.buckets/kaggle/E5007/meseta/E5007_963_epic_037_12500.csv\n",
      "None\n",
      "<Blob: lbertolini_eyf, kaggle/E5007/meseta/E5007_963_epic_037_13000.csv, 1636819375773281>\n",
      "Destination: /home/lucas/Desktop/2021/Maestria/02.05.Data.Mining.E.y.F/Repo.TP/dmeyf/src/99.buckets/kaggle/E5007/meseta/E5007_963_epic_037_13000.csv\n",
      "None\n",
      "<Blob: lbertolini_eyf, kaggle/E5007/meseta/E5007_963_epic_037_13500.csv, 1636819376704587>\n",
      "Destination: /home/lucas/Desktop/2021/Maestria/02.05.Data.Mining.E.y.F/Repo.TP/dmeyf/src/99.buckets/kaggle/E5007/meseta/E5007_963_epic_037_13500.csv\n",
      "None\n",
      "<Blob: lbertolini_eyf, kaggle/E5007/meseta/E5007_963_epic_037_14000.csv, 1636819377618472>\n",
      "Destination: /home/lucas/Desktop/2021/Maestria/02.05.Data.Mining.E.y.F/Repo.TP/dmeyf/src/99.buckets/kaggle/E5007/meseta/E5007_963_epic_037_14000.csv\n",
      "None\n",
      "<Blob: lbertolini_eyf, kaggle/E5007/meseta/E5007_963_epic_037_14500.csv, 1636819378576519>\n",
      "Destination: /home/lucas/Desktop/2021/Maestria/02.05.Data.Mining.E.y.F/Repo.TP/dmeyf/src/99.buckets/kaggle/E5007/meseta/E5007_963_epic_037_14500.csv\n",
      "None\n",
      "<Blob: lbertolini_eyf, kaggle/E5007/meseta/E5007_963_epic_037_15000.csv, 1636819379515031>\n",
      "Destination: /home/lucas/Desktop/2021/Maestria/02.05.Data.Mining.E.y.F/Repo.TP/dmeyf/src/99.buckets/kaggle/E5007/meseta/E5007_963_epic_037_15000.csv\n",
      "None\n"
     ]
    }
   ],
   "source": [
    "\n",
    "\n",
    "# print(download_path)\n",
    "for blob in bucket.list_blobs(prefix=\"kaggle/E5007/\"):\n",
    "    print(blob)\n",
    "    # print(blob.name)\n",
    "    # print(blob.name[-1])\n",
    "    # break\n",
    "    if (blob.name[-1] == '/'):\n",
    "        Path(os.getcwd() + \"/\"  +  blob.name).mkdir(parents=True, exist_ok=True)\n",
    "    else:\n",
    "        destination_path = os.getcwd() + \"/\" + blob.name\n",
    "        print(f\"Destination: { destination_path }\")\n",
    "        b = bucket.get_blob(blob.name)\n",
    "        out = b.download_to_filename(destination_path)\n",
    "        print(out)\n",
    "        # break\n",
    "\n",
    "    # print(blob.name)\n",
    "\n"
   ]
  },
  {
   "cell_type": "code",
   "execution_count": 17,
   "metadata": {},
   "outputs": [
    {
     "name": "stdout",
     "output_type": "stream",
     "text": [
      "<Blob: lbertolini_eyf, work/E5009/, 1636851851142125>\n",
      "<Blob: lbertolini_eyf, work/E5009/E5009_982_epic.txt, 1636852384890478>\n",
      "Destination: /home/lucas/Desktop/2021/Maestria/02.05.Data.Mining.E.y.F/Repo.TP/dmeyf/src/99.buckets/work/E5009/E5009_982_epic.txt\n",
      "None\n"
     ]
    }
   ],
   "source": [
    "# print(download_path)\n",
    "for blob in bucket.list_blobs(prefix=\"work/E5009/\"):\n",
    "    print(blob)\n",
    "    # print(blob.name)\n",
    "    # print(blob.name[-1])\n",
    "    # break\n",
    "    if (blob.name[-1] == '/'):\n",
    "        Path(os.getcwd() + \"/\"  +  blob.name).mkdir(parents=True, exist_ok=True)\n",
    "    else:\n",
    "        destination_path = os.getcwd() + \"/\" + blob.name\n",
    "        print(f\"Destination: { destination_path }\")\n",
    "        b = bucket.get_blob(blob.name)\n",
    "        out = b.download_to_filename(destination_path)\n",
    "        print(out)\n",
    "        # break\n",
    "\n",
    "    # print(blob.name)\n",
    "\n"
   ]
  },
  {
   "cell_type": "code",
   "execution_count": null,
   "metadata": {},
   "outputs": [],
   "source": [
    "\n",
    "for blob in bucket.list_blobs():\n",
    "    print(dir(blob))\n",
    "    # [\n",
    "    # 'STORAGE_CLASSES', '_CHUNK_SIZE_MULTIPLE', '__class__', '__delattr__', \n",
    "    # '__dict__', '__dir__', '__doc__', '__eq__', '__format__', '__ge__', \n",
    "    # '__getattribute__', '__gt__', '__hash__', '__init__', '__init_subclass__', \n",
    "    # '__le__', '__lt__', '__module__', '__ne__', '__new__', '__reduce__', \n",
    "    # '__reduce_ex__', '__repr__', '__setattr__', '__sizeof__', '__str__', \n",
    "    # '__subclasshook__', '__weakref__', '_acl', '_bucket', '_changes', '_chunk_size', \n",
    "    # '_do_download', '_do_multipart_upload', '_do_resumable_upload', '_do_upload', \n",
    "    # '_encryption_headers', '_encryption_key', '_extract_headers_from_download', \n",
    "    # '_get_content_type', '_get_download_url', '_get_transport', '_get_upload_arguments', \n",
    "    # '_get_writable_metadata', '_initiate_resumable_upload', '_patch_property', \n",
    "    # '_properties', '_query_params', '_require_client', '_set_properties', 'acl', \n",
    "    # 'bucket', 'cache_control', 'chunk_size', 'client', 'component_count', 'compose', \n",
    "    # 'content_disposition', 'content_encoding', 'content_language', 'content_type', \n",
    "    # 'crc32c', 'create_resumable_upload_session', 'custom_time', 'delete', 'download_as_bytes', \n",
    "    # 'download_as_string', 'download_as_text', 'download_to_file', 'download_to_filename', \n",
    "    # 'encryption_key', 'etag', 'event_based_hold', 'exists', 'from_string', \n",
    "    # 'generate_signed_url', 'generation', 'get_iam_policy', 'id', 'kms_key_name', \n",
    "    # 'make_private', 'make_public', 'md5_hash', 'media_link', 'metadata', 'metageneration', \n",
    "    # 'name', 'open', 'owner', 'patch', 'path', 'path_helper', 'public_url', 'reload', \n",
    "    # 'retention_expiration_time', 'rewrite', 'self_link', 'set_iam_policy', 'size', \n",
    "    # 'storage_class', 'temporary_hold', 'test_iam_permissions', 'time_created', \n",
    "    # 'time_deleted', 'update', 'update_storage_class', 'updated', 'upload_from_file', \n",
    "    # 'upload_from_filename', 'upload_from_string', 'user_project']\n",
    "    break\n",
    "    print(blob.name)"
   ]
  },
  {
   "cell_type": "code",
   "execution_count": null,
   "metadata": {},
   "outputs": [],
   "source": []
  }
 ],
 "metadata": {
  "interpreter": {
   "hash": "e7370f93d1d0cde622a1f8e1c04877d8463912d04d973331ad4851f04de6915a"
  },
  "kernelspec": {
   "display_name": "Python 3.9.7 64-bit",
   "language": "python",
   "name": "python3"
  },
  "language_info": {
   "codemirror_mode": {
    "name": "ipython",
    "version": 3
   },
   "file_extension": ".py",
   "mimetype": "text/x-python",
   "name": "python",
   "nbconvert_exporter": "python",
   "pygments_lexer": "ipython3",
   "version": "3.9.7"
  },
  "orig_nbformat": 4
 },
 "nbformat": 4,
 "nbformat_minor": 2
}
