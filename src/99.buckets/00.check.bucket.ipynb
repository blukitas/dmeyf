{
 "cells": [
  {
   "cell_type": "code",
   "execution_count": 3,
   "metadata": {},
   "outputs": [],
   "source": [
    "# !pip install google.cloud\n",
    "# !pip install google-cloud-datastore\n",
    "# ! pip install --upgrade google-cloud-storage"
   ]
  },
  {
   "cell_type": "code",
   "execution_count": 8,
   "metadata": {},
   "outputs": [],
   "source": [
    "from google.cloud import storage\n",
    "from google.api_core.exceptions import NotFound\n",
    "import logging \n"
   ]
  },
  {
   "cell_type": "markdown",
   "metadata": {},
   "source": [
    "Referencias:\n",
    "- github: https://github.com/googleapis/google-cloud-python#google-cloud-python-client\n",
    "- github - starting: https://github.com/GoogleCloudPlatform/getting-started-python"
   ]
  },
  {
   "cell_type": "code",
   "execution_count": null,
   "metadata": {},
   "outputs": [],
   "source": []
  },
  {
   "cell_type": "code",
   "execution_count": 9,
   "metadata": {},
   "outputs": [],
   "source": [
    "logger = logging.getLogger()"
   ]
  },
  {
   "cell_type": "code",
   "execution_count": 10,
   "metadata": {},
   "outputs": [],
   "source": [
    "def check_bucket_exists(self, bucket_name):\n",
    "        \"\"\"Checks whether GCS bucket exists.\n",
    "\n",
    "        Args:\n",
    "            bucket_name (str): GCS bucket name.\n",
    "        \"\"\"\n",
    "\n",
    "        try:\n",
    "            self.client.get_bucket(bucket_name)\n",
    "            return True\n",
    "        except NotFound as error:\n",
    "            logger.exception(error)\n",
    "            return False "
   ]
  },
  {
   "cell_type": "code",
   "execution_count": null,
   "metadata": {},
   "outputs": [],
   "source": [
    "def list_buckets():\n",
    "    \"\"\"Lists all buckets.\"\"\"\n",
    "\n",
    "    storage_client = storage.Client()\n",
    "    buckets = storage_client.list_buckets()\n",
    "\n",
    "    for bucket in buckets:\n",
    "        print(bucket.name)\n"
   ]
  },
  {
   "cell_type": "code",
   "execution_count": 11,
   "metadata": {},
   "outputs": [],
   "source": [
    "# https://stackoverflow.com/questions/45645717/unable-to-authenticate-google-cloud-storage-client-in-python\n",
    "storage_client = storage.Client.from_service_account_json('./cobalt-bliss-331101-e92cd862637a.json')"
   ]
  },
  {
   "cell_type": "code",
   "execution_count": 2,
   "metadata": {},
   "outputs": [
    {
     "ename": "NameError",
     "evalue": "name 'storage' is not defined",
     "output_type": "error",
     "traceback": [
      "\u001b[0;31m---------------------------------------------------------------------------\u001b[0m",
      "\u001b[0;31mNameError\u001b[0m                                 Traceback (most recent call last)",
      "\u001b[0;32m/tmp/ipykernel_60765/2536731121.py\u001b[0m in \u001b[0;36m<module>\u001b[0;34m\u001b[0m\n\u001b[0;32m----> 1\u001b[0;31m \u001b[0mclient\u001b[0m \u001b[0;34m=\u001b[0m \u001b[0mstorage\u001b[0m\u001b[0;34m.\u001b[0m\u001b[0mClient\u001b[0m\u001b[0;34m(\u001b[0m\u001b[0;34m)\u001b[0m\u001b[0;34m\u001b[0m\u001b[0;34m\u001b[0m\u001b[0m\n\u001b[0m",
      "\u001b[0;31mNameError\u001b[0m: name 'storage' is not defined"
     ]
    }
   ],
   "source": [
    "# client = storage.Client()    \n"
   ]
  },
  {
   "cell_type": "code",
   "execution_count": 16,
   "metadata": {},
   "outputs": [
    {
     "name": "stdout",
     "output_type": "stream",
     "text": [
      "bucket: lbertolini_eyf\n",
      "bucket_exists - <Bucket: lbertolini_eyf>\n",
      "print_bucket\n",
      "\t ID: lbertolini_eyf\n",
      "\t Name: lbertolini_eyf\n",
      "\t Storage Class: STANDARD\n",
      "\t Location: US\n",
      "\t Location Type: multi-region\n",
      "\t Cors: []\n",
      "\t Default Event Based Hold: None\n",
      "\t Default KMS Key Name: None\n",
      "\t Metageneration: 1\n",
      "\t Public Access Prevention: unspecified\n",
      "\t Retention Effective Time: None\n",
      "\t Retention Period: None\n",
      "\t Retention Policy Locked: None\n",
      "\t Requester Pays: False\n",
      "\t Self Link: https://www.googleapis.com/storage/v1/b/lbertolini_eyf\n",
      "\t Time Created: 2021-11-09 22:29:54.457000+00:00\n",
      "\t Versioning Enabled: False\n",
      "\t Labels: {}\n"
     ]
    }
   ],
   "source": [
    "bucket_list = ['lbertolini_eyf']\n",
    "for i in bucket_list:\n",
    "    print(f'bucket: {i}')\n",
    "    bucket = storage_client.bucket(i)\n",
    "    if bucket.exists():\n",
    "        print(f'bucket_exists - {bucket}')\n",
    "        bucket = storage_client.get_bucket(i)\n",
    "        print(f'print_bucket_info')\n",
    "\n",
    "        # https://cloud.google.com/storage/docs/getting-bucket-information#storage-get-bucket-metadata-python\n",
    "        print(f\"\\t ID: {bucket.id}\")\n",
    "        print(f\"\\t Name: {bucket.name}\")\n",
    "        print(f\"\\t Storage Class: {bucket.storage_class}\")\n",
    "        print(f\"\\t Location: {bucket.location}\")\n",
    "        print(f\"\\t Location Type: {bucket.location_type}\")\n",
    "        print(f\"\\t Cors: {bucket.cors}\")\n",
    "        print(f\"\\t Default Event Based Hold: {bucket.default_event_based_hold}\")\n",
    "        print(f\"\\t Default KMS Key Name: {bucket.default_kms_key_name}\")\n",
    "        print(f\"\\t Metageneration: {bucket.metageneration}\")\n",
    "        print(\n",
    "            f\"\\t Public Access Prevention: {bucket.iam_configuration.public_access_prevention}\"\n",
    "        )\n",
    "        print(f\"\\t Retention Effective Time: {bucket.retention_policy_effective_time}\")\n",
    "        print(f\"\\t Retention Period: {bucket.retention_period}\")\n",
    "        print(f\"\\t Retention Policy Locked: {bucket.retention_policy_locked}\")\n",
    "        print(f\"\\t Requester Pays: {bucket.requester_pays}\")\n",
    "        print(f\"\\t Self Link: {bucket.self_link}\")\n",
    "        print(f\"\\t Time Created: {bucket.time_created}\")\n",
    "        print(f\"\\t Versioning Enabled: {bucket.versioning_enabled}\")\n",
    "        print(f\"\\t Labels: {bucket.labels}\")\n"
   ]
  }
 ],
 "metadata": {
  "interpreter": {
   "hash": "e7370f93d1d0cde622a1f8e1c04877d8463912d04d973331ad4851f04de6915a"
  },
  "kernelspec": {
   "display_name": "Python 3.9.7 64-bit",
   "language": "python",
   "name": "python3"
  },
  "language_info": {
   "codemirror_mode": {
    "name": "ipython",
    "version": 3
   },
   "file_extension": ".py",
   "mimetype": "text/x-python",
   "name": "python",
   "nbconvert_exporter": "python",
   "pygments_lexer": "ipython3",
   "version": "3.9.7"
  },
  "orig_nbformat": 4
 },
 "nbformat": 4,
 "nbformat_minor": 2
}
